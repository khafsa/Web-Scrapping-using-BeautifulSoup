{
  "nbformat": 4,
  "nbformat_minor": 0,
  "metadata": {
    "colab": {
      "provenance": [],
      "toc_visible": true
    },
    "kernelspec": {
      "name": "python3",
      "display_name": "Python 3"
    },
    "language_info": {
      "name": "python"
    }
  },
  "cells": [
    {
      "cell_type": "markdown",
      "source": [
        "#Import Libraries"
      ],
      "metadata": {
        "id": "_qilj4SKShg7"
      }
    },
    {
      "cell_type": "code",
      "execution_count": 5,
      "metadata": {
        "colab": {
          "base_uri": "https://localhost:8080/"
        },
        "id": "OKS28f3-6F0X",
        "outputId": "a405f468-fe41-40de-df5b-25a0fede4574"
      },
      "outputs": [
        {
          "output_type": "stream",
          "name": "stdout",
          "text": [
            "Looking in indexes: https://pypi.org/simple, https://us-python.pkg.dev/colab-wheels/public/simple/\n",
            "Collecting bs4\n",
            "  Downloading bs4-0.0.1.tar.gz (1.1 kB)\n",
            "  Preparing metadata (setup.py) ... \u001b[?25l\u001b[?25hdone\n",
            "Requirement already satisfied: beautifulsoup4 in /usr/local/lib/python3.10/dist-packages (from bs4) (4.11.2)\n",
            "Requirement already satisfied: soupsieve>1.2 in /usr/local/lib/python3.10/dist-packages (from beautifulsoup4->bs4) (2.4.1)\n",
            "Building wheels for collected packages: bs4\n",
            "  Building wheel for bs4 (setup.py) ... \u001b[?25l\u001b[?25hdone\n",
            "  Created wheel for bs4: filename=bs4-0.0.1-py3-none-any.whl size=1257 sha256=6cd0bc58e1c3e03a5311c3e4c31f94ab94173c14fccc2d79cefbbd7e1bbdc1f5\n",
            "  Stored in directory: /root/.cache/pip/wheels/25/42/45/b773edc52acb16cd2db4cf1a0b47117e2f69bb4eb300ed0e70\n",
            "Successfully built bs4\n",
            "Installing collected packages: bs4\n",
            "Successfully installed bs4-0.0.1\n"
          ]
        }
      ],
      "source": [
        "!pip install bs4"
      ]
    },
    {
      "cell_type": "code",
      "source": [
        "!pip install requests"
      ],
      "metadata": {
        "colab": {
          "base_uri": "https://localhost:8080/"
        },
        "id": "Svr0T8rHEdd9",
        "outputId": "316a0700-e9d7-459e-ed3f-d0ad5f08b32f"
      },
      "execution_count": 4,
      "outputs": [
        {
          "output_type": "stream",
          "name": "stdout",
          "text": [
            "Looking in indexes: https://pypi.org/simple, https://us-python.pkg.dev/colab-wheels/public/simple/\n",
            "Requirement already satisfied: requests in /usr/local/lib/python3.10/dist-packages (2.27.1)\n",
            "Requirement already satisfied: urllib3<1.27,>=1.21.1 in /usr/local/lib/python3.10/dist-packages (from requests) (1.26.15)\n",
            "Requirement already satisfied: certifi>=2017.4.17 in /usr/local/lib/python3.10/dist-packages (from requests) (2022.12.7)\n",
            "Requirement already satisfied: charset-normalizer~=2.0.0 in /usr/local/lib/python3.10/dist-packages (from requests) (2.0.12)\n",
            "Requirement already satisfied: idna<4,>=2.5 in /usr/local/lib/python3.10/dist-packages (from requests) (3.4)\n"
          ]
        }
      ]
    },
    {
      "cell_type": "code",
      "source": [
        "from bs4 import BeautifulSoup\n",
        "import requests, openpyxl"
      ],
      "metadata": {
        "id": "inebsVZU_Acy"
      },
      "execution_count": 10,
      "outputs": []
    },
    {
      "cell_type": "markdown",
      "source": [
        "#Mount Google Drive"
      ],
      "metadata": {
        "id": "wU5nolv9SmMt"
      }
    },
    {
      "cell_type": "code",
      "source": [
        "from google.colab import drive\n",
        "drive.mount('/content/drive')"
      ],
      "metadata": {
        "colab": {
          "base_uri": "https://localhost:8080/"
        },
        "id": "Cj6uWAwQLaOy",
        "outputId": "0fa4dcec-36fe-4525-a1a4-4cea68f31dcf"
      },
      "execution_count": 34,
      "outputs": [
        {
          "output_type": "stream",
          "name": "stdout",
          "text": [
            "Drive already mounted at /content/drive; to attempt to forcibly remount, call drive.mount(\"/content/drive\", force_remount=True).\n"
          ]
        }
      ]
    },
    {
      "cell_type": "markdown",
      "source": [
        "#Scraping data"
      ],
      "metadata": {
        "id": "mfr1T_eSTDOj"
      }
    },
    {
      "cell_type": "code",
      "source": [
        "excel = openpyxl.Workbook()\n",
        "sheet = excel.active\n",
        "sheet.title = 'Top rated movies'\n",
        "sheet.append(['Rank', 'Title', 'Year of Release', 'IMDb Rating'])\n",
        "\n",
        "try:\n",
        "    source = requests.get('https://www.imdb.com/chart/top/')\n",
        "    source.raise_for_status()\n",
        "\n",
        "    soup = BeautifulSoup(source.text, 'html.parser')\n",
        "\n",
        "    movies = soup.find('tbody', class_='lister-list').find_all('tr')\n",
        "\n",
        "    for movie in movies:\n",
        "        name = movie.find('td', class_='titleColumn').a.text\n",
        "        rank = movie.find('td', class_='titleColumn').get_text(strip=True).split('.')[0]\n",
        "        year = movie.find('td', class_='titleColumn').span.text.strip('()')\n",
        "        rating = movie.find('td', class_='ratingColumn imdbRating').strong.text\n",
        "\n",
        "        print(rank, name, year, rating)\n",
        "        sheet.append([rank, name, year, rating])\n",
        "\n",
        "#Saving to drive\n",
        "    excel.save('/content/drive/MyDrive/Projects/Scraping IMDb website/IMDb_Movie_Rating.xlsx')\n",
        "    print(\"Data saved successfully!\")\n",
        "\n",
        "except Exception as e:\n",
        "    print(\"An error occurred:\", e)"
      ],
      "metadata": {
        "colab": {
          "base_uri": "https://localhost:8080/"
        },
        "id": "INkph-g4FjL7",
        "outputId": "6efe630f-7d5b-47d7-ba19-31667ae15a10"
      },
      "execution_count": 42,
      "outputs": [
        {
          "output_type": "stream",
          "name": "stdout",
          "text": [
            "1 The Shawshank Redemption 1994 9.2\n",
            "2 The Godfather 1972 9.2\n",
            "3 The Dark Knight 2008 9.0\n",
            "4 The Godfather Part II 1974 9.0\n",
            "5 12 Angry Men 1957 9.0\n",
            "6 Schindler's List 1993 8.9\n",
            "7 The Lord of the Rings: The Return of the King 2003 8.9\n",
            "8 Pulp Fiction 1994 8.8\n",
            "9 The Lord of the Rings: The Fellowship of the Ring 2001 8.8\n",
            "10 The Good, the Bad and the Ugly 1966 8.8\n",
            "11 Spider-Man: Across the Spider-Verse 2023 8.8\n",
            "12 Forrest Gump 1994 8.8\n",
            "13 Fight Club 1999 8.7\n",
            "14 The Lord of the Rings: The Two Towers 2002 8.7\n",
            "15 Inception 2010 8.7\n",
            "16 Star Wars: Episode V - The Empire Strikes Back 1980 8.7\n",
            "17 The Matrix 1999 8.7\n",
            "18 Goodfellas 1990 8.7\n",
            "19 One Flew Over the Cuckoo's Nest 1975 8.6\n",
            "20 Se7en 1995 8.6\n",
            "21 It's a Wonderful Life 1946 8.6\n",
            "22 Seven Samurai 1954 8.6\n",
            "23 The Silence of the Lambs 1991 8.6\n",
            "24 Saving Private Ryan 1998 8.6\n",
            "25 City of God 2002 8.6\n",
            "26 Interstellar 2014 8.6\n",
            "27 Life Is Beautiful 1997 8.6\n",
            "28 The Green Mile 1999 8.6\n",
            "29 Star Wars: Episode IV - A New Hope 1977 8.5\n",
            "30 Terminator 2: Judgment Day 1991 8.5\n",
            "31 Back to the Future 1985 8.5\n",
            "32 Spirited Away 2001 8.5\n",
            "33 The Pianist 2002 8.5\n",
            "34 Psycho 1960 8.5\n",
            "35 Parasite 2019 8.5\n",
            "36 Léon: The Professional 1994 8.5\n",
            "37 The Lion King 1994 8.5\n",
            "38 Gladiator 2000 8.5\n",
            "39 American History X 1998 8.5\n",
            "40 The Departed 2006 8.5\n",
            "41 Whiplash 2014 8.5\n",
            "42 The Prestige 2006 8.5\n",
            "43 The Usual Suspects 1995 8.5\n",
            "44 Casablanca 1942 8.5\n",
            "45 Grave of the Fireflies 1988 8.5\n",
            "46 Harakiri 1962 8.5\n",
            "47 The Intouchables 2011 8.5\n",
            "48 Modern Times 1936 8.4\n",
            "49 Once Upon a Time in the West 1968 8.4\n",
            "50 Cinema Paradiso 1988 8.4\n",
            "51 Rear Window 1954 8.4\n",
            "52 Alien 1979 8.4\n",
            "53 City Lights 1931 8.4\n",
            "54 Apocalypse Now 1979 8.4\n",
            "55 Memento 2000 8.4\n",
            "56 Django Unchained 2012 8.4\n",
            "57 Indiana Jones and the Raiders of the Lost Ark 1981 8.4\n",
            "58 WALL·E 2008 8.4\n",
            "59 The Lives of Others 2006 8.4\n",
            "60 Sunset Blvd. 1950 8.4\n",
            "61 Paths of Glory 1957 8.4\n",
            "62 Avengers: Infinity War 2018 8.4\n",
            "63 The Shining 1980 8.4\n",
            "64 The Great Dictator 1940 8.4\n",
            "65 Witness for the Prosecution 1957 8.4\n",
            "66 Spider-Man: Into the Spider-Verse 2018 8.4\n",
            "67 Aliens 1986 8.3\n",
            "68 American Beauty 1999 8.3\n",
            "69 The Dark Knight Rises 2012 8.3\n",
            "70 Dr. Strangelove or: How I Learned to Stop Worrying and Love the Bomb 1964 8.3\n",
            "71 Inglourious Basterds 2009 8.3\n",
            "72 Oldboy 2003 8.3\n",
            "73 Coco 2017 8.3\n",
            "74 Amadeus 1984 8.3\n",
            "75 Toy Story 1995 8.3\n",
            "76 Braveheart 1995 8.3\n",
            "77 Das Boot 1981 8.3\n",
            "78 Joker 2019 8.3\n",
            "79 Avengers: Endgame 2019 8.3\n",
            "80 Princess Mononoke 1997 8.3\n",
            "81 Good Will Hunting 1997 8.3\n",
            "82 Once Upon a Time in America 1984 8.3\n",
            "83 Your Name. 2016 8.3\n",
            "84 3 Idiots 2009 8.3\n",
            "85 Singin' in the Rain 1952 8.3\n",
            "86 High and Low 1963 8.3\n",
            "87 Requiem for a Dream 2000 8.3\n",
            "88 Capernaum 2018 8.3\n",
            "89 Toy Story 3 2010 8.3\n",
            "90 Star Wars: Episode VI - Return of the Jedi 1983 8.3\n",
            "91 Come and See 1985 8.3\n",
            "92 Eternal Sunshine of the Spotless Mind 2004 8.3\n",
            "93 2001: A Space Odyssey 1968 8.3\n",
            "94 The Hunt 2012 8.3\n",
            "95 Reservoir Dogs 1992 8.3\n",
            "96 Lawrence of Arabia 1962 8.2\n",
            "97 Citizen Kane 1941 8.2\n",
            "98 M 1931 8.2\n",
            "99 Ikiru 1952 8.2\n",
            "100 North by Northwest 1959 8.2\n",
            "101 The Apartment 1960 8.2\n",
            "102 Vertigo 1958 8.2\n",
            "103 Amélie 2001 8.2\n",
            "104 Double Indemnity 1944 8.2\n",
            "105 A Clockwork Orange 1971 8.2\n",
            "106 Full Metal Jacket 1987 8.2\n",
            "107 Hamilton 2020 8.2\n",
            "108 Scarface 1983 8.2\n",
            "109 Incendies 2010 8.2\n",
            "110 Heat 1995 8.2\n",
            "111 Up 2009 8.2\n",
            "112 To Kill a Mockingbird 1962 8.2\n",
            "113 The Sting 1973 8.2\n",
            "114 A Separation 2011 8.2\n",
            "115 Metropolis 1927 8.2\n",
            "116 L.A. Confidential 1997 8.2\n",
            "117 Die Hard 1988 8.2\n",
            "118 Indiana Jones and the Last Crusade 1989 8.2\n",
            "119 Snatch 2000 8.2\n",
            "120 Taxi Driver 1976 8.2\n",
            "121 Bicycle Thieves 1948 8.2\n",
            "122 Like Stars on Earth 2007 8.2\n",
            "123 1917 2019 8.2\n",
            "124 Dangal 2016 8.2\n",
            "125 Downfall 2004 8.2\n",
            "126 Top Gun: Maverick 2022 8.2\n",
            "127 For a Few Dollars More 1965 8.2\n",
            "128 Batman Begins 2005 8.2\n",
            "129 The Kid 1921 8.2\n",
            "130 Some Like It Hot 1959 8.2\n",
            "131 The Father 2020 8.2\n",
            "132 The Wolf of Wall Street 2013 8.2\n",
            "133 All About Eve 1950 8.2\n",
            "134 Green Book 2018 8.2\n",
            "135 Judgment at Nuremberg 1961 8.2\n",
            "136 Ran 1985 8.2\n",
            "137 The Truman Show 1998 8.2\n",
            "138 Casino 1995 8.2\n",
            "139 There Will Be Blood 2007 8.2\n",
            "140 Pan's Labyrinth 2006 8.2\n",
            "141 Unforgiven 1992 8.2\n",
            "142 Shutter Island 2010 8.2\n",
            "143 The Sixth Sense 1999 8.2\n",
            "144 Jurassic Park 1993 8.2\n",
            "145 A Beautiful Mind 2001 8.2\n",
            "146 The Treasure of the Sierra Madre 1948 8.1\n",
            "147 Yojimbo 1961 8.1\n",
            "148 Monty Python and the Holy Grail 1975 8.1\n",
            "149 No Country for Old Men 2007 8.1\n",
            "150 Kill Bill: Vol. 1 2003 8.1\n",
            "151 The Great Escape 1963 8.1\n",
            "152 Rashomon 1950 8.1\n",
            "153 The Thing 1982 8.1\n",
            "154 Finding Nemo 2003 8.1\n",
            "155 Spider-Man: No Way Home 2021 8.1\n",
            "156 The Elephant Man 1980 8.1\n",
            "157 Chinatown 1974 8.1\n",
            "158 Raging Bull 1980 8.1\n",
            "159 V for Vendetta 2005 8.1\n",
            "160 Gone with the Wind 1939 8.1\n",
            "161 Dial M for Murder 1954 8.1\n",
            "162 Inside Out 2015 8.1\n",
            "163 Lock, Stock and Two Smoking Barrels 1998 8.1\n",
            "164 Howl's Moving Castle 2004 8.1\n",
            "165 The Secret in Their Eyes 2009 8.1\n",
            "166 Three Billboards Outside Ebbing, Missouri 2017 8.1\n",
            "167 Prisoners 2013 8.1\n",
            "168 Guardians of the Galaxy Vol. 3 2023 8.1\n",
            "169 Trainspotting 1996 8.1\n",
            "170 The Bridge on the River Kwai 1957 8.1\n",
            "171 Fargo 1996 8.1\n",
            "172 Warrior 2011 8.1\n",
            "173 Gran Torino 2008 8.1\n",
            "174 Catch Me If You Can 2002 8.1\n",
            "175 My Neighbor Totoro 1988 8.1\n",
            "176 Million Dollar Baby 2004 8.1\n",
            "177 Children of Heaven 1997 8.1\n",
            "178 The Gold Rush 1925 8.1\n",
            "179 Klaus 2019 8.1\n",
            "180 Blade Runner 1982 8.1\n",
            "181 Harry Potter and the Deathly Hallows: Part 2 2011 8.1\n",
            "182 12 Years a Slave 2013 8.1\n",
            "183 Before Sunrise 1995 8.1\n",
            "184 The Grand Budapest Hotel 2014 8.1\n",
            "185 Ben-Hur 1959 8.1\n",
            "186 Gone Girl 2014 8.1\n",
            "187 On the Waterfront 1954 8.1\n",
            "188 Barry Lyndon 1975 8.1\n",
            "189 The General 1926 8.1\n",
            "190 Wild Strawberries 1957 8.1\n",
            "191 In the Name of the Father 1993 8.1\n",
            "192 The Deer Hunter 1978 8.1\n",
            "193 Hacksaw Ridge 2016 8.1\n",
            "194 The Third Man 1949 8.1\n",
            "195 The Wages of Fear 1953 8.1\n",
            "196 Memories of Murder 2003 8.1\n",
            "197 Sherlock Jr. 1924 8.1\n",
            "198 Wild Tales 2014 8.1\n",
            "199 Mr. Smith Goes to Washington 1939 8.1\n",
            "200 Mad Max: Fury Road 2015 8.1\n",
            "201 Mary and Max 2009 8.1\n",
            "202 Dead Poets Society 1989 8.1\n",
            "203 How to Train Your Dragon 2010 8.1\n",
            "204 Monsters, Inc. 2001 8.1\n",
            "205 The Seventh Seal 1957 8.1\n",
            "206 Jaws 1975 8.1\n",
            "207 Room 2015 8.1\n",
            "208 The Big Lebowski 1998 8.1\n",
            "209 Tokyo Story 1953 8.1\n",
            "210 Ford v Ferrari 2019 8.1\n",
            "211 The Passion of Joan of Arc 1928 8.0\n",
            "212 Hotel Rwanda 2004 8.0\n",
            "213 Ratatouille 2007 8.0\n",
            "214 Rocky 1976 8.0\n",
            "215 Platoon 1986 8.0\n",
            "216 Spotlight 2015 8.0\n",
            "217 Logan 2017 8.0\n",
            "218 The Terminator 1984 8.0\n",
            "219 Jai Bhim 2021 8.0\n",
            "220 Rush 2013 8.0\n",
            "221 Before Sunset 2004 8.0\n",
            "222 Stand by Me 1986 8.0\n",
            "223 Network 1976 8.0\n",
            "224 Into the Wild 2007 8.0\n",
            "225 The Wizard of Oz 1939 8.0\n",
            "226 The Best Years of Our Lives 1946 8.0\n",
            "227 La haine 1995 8.0\n",
            "228 The Exorcist 1973 8.0\n",
            "229 The Incredibles 2004 8.0\n",
            "230 To Be or Not to Be 1942 8.0\n",
            "231 Pirates of the Caribbean: The Curse of the Black Pearl 2003 8.0\n",
            "232 Groundhog Day 1993 8.0\n",
            "233 My Father and My Son 2005 8.0\n",
            "234 The Battle of Algiers 1966 8.0\n",
            "235 The Grapes of Wrath 1940 8.0\n",
            "236 Hachi: A Dog's Tale 2009 8.0\n",
            "237 Pather Panchali 1955 8.0\n",
            "238 The Handmaiden 2016 8.0\n",
            "239 Amores Perros 2000 8.0\n",
            "240 Rebecca 1940 8.0\n",
            "241 Cool Hand Luke 1967 8.0\n",
            "242 The Sound of Music 1965 8.0\n",
            "243 It Happened One Night 1934 8.0\n",
            "244 The 400 Blows 1959 8.0\n",
            "245 Persona 1966 8.0\n",
            "246 The Help 2011 8.0\n",
            "247 The Iron Giant 1999 8.0\n",
            "248 Life of Brian 1979 8.0\n",
            "249 Aladdin 1992 8.0\n",
            "250 Dances with Wolves 1990 8.0\n",
            "Data saved successfully!\n"
          ]
        }
      ]
    },
    {
      "cell_type": "markdown",
      "source": [
        "#Data Visualization"
      ],
      "metadata": {
        "id": "cVd_zLDCTbXv"
      }
    },
    {
      "cell_type": "code",
      "source": [
        "import pandas as pd\n",
        "\n",
        "path = \"/content/drive/MyDrive/Projects/Scraping IMDb website/IMDb_Movie_Rating.xlsx\"\n",
        "df = pd.read_excel(path)\n",
        "df.head()\n",
        "import pandas as pd\n",
        "#Dataset is now stored in a Pandas Dataframe"
      ],
      "metadata": {
        "colab": {
          "base_uri": "https://localhost:8080/",
          "height": 206
        },
        "id": "kD6te_j-TeP9",
        "outputId": "ab99e2a0-db50-4ea7-9583-ac3fca1a47b1"
      },
      "execution_count": 44,
      "outputs": [
        {
          "output_type": "execute_result",
          "data": {
            "text/plain": [
              "   Rank                     Title  Year of Release  IMDb Rating\n",
              "0     1  The Shawshank Redemption             1994          9.2\n",
              "1     2             The Godfather             1972          9.2\n",
              "2     3           The Dark Knight             2008          9.0\n",
              "3     4     The Godfather Part II             1974          9.0\n",
              "4     5              12 Angry Men             1957          9.0"
            ],
            "text/html": [
              "\n",
              "  <div id=\"df-08ee5261-631c-4985-b652-90f240771a33\">\n",
              "    <div class=\"colab-df-container\">\n",
              "      <div>\n",
              "<style scoped>\n",
              "    .dataframe tbody tr th:only-of-type {\n",
              "        vertical-align: middle;\n",
              "    }\n",
              "\n",
              "    .dataframe tbody tr th {\n",
              "        vertical-align: top;\n",
              "    }\n",
              "\n",
              "    .dataframe thead th {\n",
              "        text-align: right;\n",
              "    }\n",
              "</style>\n",
              "<table border=\"1\" class=\"dataframe\">\n",
              "  <thead>\n",
              "    <tr style=\"text-align: right;\">\n",
              "      <th></th>\n",
              "      <th>Rank</th>\n",
              "      <th>Title</th>\n",
              "      <th>Year of Release</th>\n",
              "      <th>IMDb Rating</th>\n",
              "    </tr>\n",
              "  </thead>\n",
              "  <tbody>\n",
              "    <tr>\n",
              "      <th>0</th>\n",
              "      <td>1</td>\n",
              "      <td>The Shawshank Redemption</td>\n",
              "      <td>1994</td>\n",
              "      <td>9.2</td>\n",
              "    </tr>\n",
              "    <tr>\n",
              "      <th>1</th>\n",
              "      <td>2</td>\n",
              "      <td>The Godfather</td>\n",
              "      <td>1972</td>\n",
              "      <td>9.2</td>\n",
              "    </tr>\n",
              "    <tr>\n",
              "      <th>2</th>\n",
              "      <td>3</td>\n",
              "      <td>The Dark Knight</td>\n",
              "      <td>2008</td>\n",
              "      <td>9.0</td>\n",
              "    </tr>\n",
              "    <tr>\n",
              "      <th>3</th>\n",
              "      <td>4</td>\n",
              "      <td>The Godfather Part II</td>\n",
              "      <td>1974</td>\n",
              "      <td>9.0</td>\n",
              "    </tr>\n",
              "    <tr>\n",
              "      <th>4</th>\n",
              "      <td>5</td>\n",
              "      <td>12 Angry Men</td>\n",
              "      <td>1957</td>\n",
              "      <td>9.0</td>\n",
              "    </tr>\n",
              "  </tbody>\n",
              "</table>\n",
              "</div>\n",
              "      <button class=\"colab-df-convert\" onclick=\"convertToInteractive('df-08ee5261-631c-4985-b652-90f240771a33')\"\n",
              "              title=\"Convert this dataframe to an interactive table.\"\n",
              "              style=\"display:none;\">\n",
              "        \n",
              "  <svg xmlns=\"http://www.w3.org/2000/svg\" height=\"24px\"viewBox=\"0 0 24 24\"\n",
              "       width=\"24px\">\n",
              "    <path d=\"M0 0h24v24H0V0z\" fill=\"none\"/>\n",
              "    <path d=\"M18.56 5.44l.94 2.06.94-2.06 2.06-.94-2.06-.94-.94-2.06-.94 2.06-2.06.94zm-11 1L8.5 8.5l.94-2.06 2.06-.94-2.06-.94L8.5 2.5l-.94 2.06-2.06.94zm10 10l.94 2.06.94-2.06 2.06-.94-2.06-.94-.94-2.06-.94 2.06-2.06.94z\"/><path d=\"M17.41 7.96l-1.37-1.37c-.4-.4-.92-.59-1.43-.59-.52 0-1.04.2-1.43.59L10.3 9.45l-7.72 7.72c-.78.78-.78 2.05 0 2.83L4 21.41c.39.39.9.59 1.41.59.51 0 1.02-.2 1.41-.59l7.78-7.78 2.81-2.81c.8-.78.8-2.07 0-2.86zM5.41 20L4 18.59l7.72-7.72 1.47 1.35L5.41 20z\"/>\n",
              "  </svg>\n",
              "      </button>\n",
              "      \n",
              "  <style>\n",
              "    .colab-df-container {\n",
              "      display:flex;\n",
              "      flex-wrap:wrap;\n",
              "      gap: 12px;\n",
              "    }\n",
              "\n",
              "    .colab-df-convert {\n",
              "      background-color: #E8F0FE;\n",
              "      border: none;\n",
              "      border-radius: 50%;\n",
              "      cursor: pointer;\n",
              "      display: none;\n",
              "      fill: #1967D2;\n",
              "      height: 32px;\n",
              "      padding: 0 0 0 0;\n",
              "      width: 32px;\n",
              "    }\n",
              "\n",
              "    .colab-df-convert:hover {\n",
              "      background-color: #E2EBFA;\n",
              "      box-shadow: 0px 1px 2px rgba(60, 64, 67, 0.3), 0px 1px 3px 1px rgba(60, 64, 67, 0.15);\n",
              "      fill: #174EA6;\n",
              "    }\n",
              "\n",
              "    [theme=dark] .colab-df-convert {\n",
              "      background-color: #3B4455;\n",
              "      fill: #D2E3FC;\n",
              "    }\n",
              "\n",
              "    [theme=dark] .colab-df-convert:hover {\n",
              "      background-color: #434B5C;\n",
              "      box-shadow: 0px 1px 3px 1px rgba(0, 0, 0, 0.15);\n",
              "      filter: drop-shadow(0px 1px 2px rgba(0, 0, 0, 0.3));\n",
              "      fill: #FFFFFF;\n",
              "    }\n",
              "  </style>\n",
              "\n",
              "      <script>\n",
              "        const buttonEl =\n",
              "          document.querySelector('#df-08ee5261-631c-4985-b652-90f240771a33 button.colab-df-convert');\n",
              "        buttonEl.style.display =\n",
              "          google.colab.kernel.accessAllowed ? 'block' : 'none';\n",
              "\n",
              "        async function convertToInteractive(key) {\n",
              "          const element = document.querySelector('#df-08ee5261-631c-4985-b652-90f240771a33');\n",
              "          const dataTable =\n",
              "            await google.colab.kernel.invokeFunction('convertToInteractive',\n",
              "                                                     [key], {});\n",
              "          if (!dataTable) return;\n",
              "\n",
              "          const docLinkHtml = 'Like what you see? Visit the ' +\n",
              "            '<a target=\"_blank\" href=https://colab.research.google.com/notebooks/data_table.ipynb>data table notebook</a>'\n",
              "            + ' to learn more about interactive tables.';\n",
              "          element.innerHTML = '';\n",
              "          dataTable['output_type'] = 'display_data';\n",
              "          await google.colab.output.renderOutput(dataTable, element);\n",
              "          const docLink = document.createElement('div');\n",
              "          docLink.innerHTML = docLinkHtml;\n",
              "          element.appendChild(docLink);\n",
              "        }\n",
              "      </script>\n",
              "    </div>\n",
              "  </div>\n",
              "  "
            ]
          },
          "metadata": {},
          "execution_count": 44
        }
      ]
    },
    {
      "cell_type": "code",
      "source": [
        "import matplotlib.pyplot as plt\n",
        "\n",
        "# Sort the DataFrame by rating in descending order\n",
        "df_sorted = df.sort_values(by='IMDb Rating', ascending=False)\n",
        "\n",
        "# Bar plot for the top 15 movies\n",
        "top_movies = df_sorted.head(15)\n",
        "bars = plt.barh(top_movies['Title'], top_movies['IMDb Rating'])\n",
        "\n",
        "# Add rating labels on hover\n",
        "plt.bar_label(bars, labels=top_movies['IMDb Rating'].round(1), label_type='edge')\n",
        "\n",
        "# Show the plot\n",
        "plt.show()"
      ],
      "metadata": {
        "colab": {
          "base_uri": "https://localhost:8080/",
          "height": 430
        },
        "id": "A8E1HjXCVYas",
        "outputId": "cd311689-3700-4d23-ae21-c9d36b90cc71"
      },
      "execution_count": 53,
      "outputs": [
        {
          "output_type": "display_data",
          "data": {
            "text/plain": [
              "<Figure size 640x480 with 1 Axes>"
            ],
            "image/png": "[encoded data removed]"
          },
          "metadata": {}
        }
      ]
    },
    {
      "cell_type": "code",
      "source": [
        "import plotly.express as px\n",
        "\n",
        "# Sort the DataFrame by rating in descending order\n",
        "df_sorted = df.sort_values(by='IMDb Rating', ascending=False)\n",
        "\n",
        "# Select the top 15 movies\n",
        "top_movies = df_sorted.head(15)\n",
        "\n",
        "# Create a bar plot with hover tooltips\n",
        "fig = px.bar(top_movies, x='IMDb Rating', y='Title', orientation='h',\n",
        "             labels={'IMDb Rating': 'Rating', 'Title': 'Movie'},\n",
        "             hover_data={'IMDb Rating': ':.1f'})\n",
        "\n",
        "# Customize the hover tooltip format\n",
        "fig.update_traces(hovertemplate='%{y} <br> Rating: %{x}')\n",
        "\n",
        "# Show the plot\n",
        "fig.show()"
      ],
      "metadata": {
        "colab": {
          "base_uri": "https://localhost:8080/",
          "height": 542
        },
        "id": "or-DplSLW5-5",
        "outputId": "2ccdef3b-8b75-4cf3-fb57-b543e1c28d74"
      },
      "execution_count": 54,
      "outputs": [
        {
          "output_type": "display_data",
          "data": {
            "text/html": [
              "<html>\n",
              "<head><meta charset=\"utf-8\" /></head>\n",
              "<body>\n",
              "    <div>            <script src=\"https://cdnjs.cloudflare.com/ajax/libs/mathjax/2.7.5/MathJax.js?config=TeX-AMS-MML_SVG\"></script><script type=\"text/javascript\">if (window.MathJax && window.MathJax.Hub && window.MathJax.Hub.Config) {window.MathJax.Hub.Config({SVG: {font: \"STIX-Web\"}});}</script>                <script type=\"text/javascript\">window.PlotlyConfig = {MathJaxConfig: 'local'};</script>\n",
              "        <script src=\"https://cdn.plot.ly/plotly-2.18.2.min.js\"></script>                <div id=\"9670f68b-f16a-485b-82b1-81d04463a358\" class=\"plotly-graph-div\" style=\"height:525px; width:100%;\"></div>            <script type=\"text/javascript\">                                    window.PLOTLYENV=window.PLOTLYENV || {};                                    if (document.getElementById(\"9670f68b-f16a-485b-82b1-81d04463a358\")) {                    Plotly.newPlot(                        \"9670f68b-f16a-485b-82b1-81d04463a358\",                        [{\"alignmentgroup\":\"True\",\"hovertemplate\":\"%{y} <br> Rating: %{x}\",\"legendgroup\":\"\",\"marker\":{\"color\":\"#636efa\",\"pattern\":{\"shape\":\"\"}},\"name\":\"\",\"offsetgroup\":\"\",\"orientation\":\"h\",\"showlegend\":false,\"textposition\":\"auto\",\"x\":[9.2,9.2,9.0,9.0,9.0,8.9,8.9,8.8,8.8,8.8,8.8,8.8,8.7,8.7,8.7],\"xaxis\":\"x\",\"y\":[\"The Shawshank Redemption\",\"The Godfather\",\"The Dark Knight\",\"The Godfather Part II\",\"12 Angry Men\",\"Schindler's List\",\"The Lord of the Rings: The Return of the King\",\"The Good, the Bad and the Ugly\",\"Spider-Man: Across the Spider-Verse\",\"Forrest Gump\",\"The Lord of the Rings: The Fellowship of the Ring\",\"Pulp Fiction\",\"Fight Club\",\"The Lord of the Rings: The Two Towers\",\"Inception\"],\"yaxis\":\"y\",\"type\":\"bar\"}],                        {\"template\":{\"data\":{\"histogram2dcontour\":[{\"type\":\"histogram2dcontour\",\"colorbar\":{\"outlinewidth\":0,\"ticks\":\"\"},\"colorscale\":[[0.0,\"#0d0887\"],[0.1111111111111111,\"#46039f\"],[0.2222222222222222,\"#7201a8\"],[0.3333333333333333,\"#9c179e\"],[0.4444444444444444,\"#bd3786\"],[0.5555555555555556,\"#d8576b\"],[0.6666666666666666,\"#ed7953\"],[0.7777777777777778,\"#fb9f3a\"],[0.8888888888888888,\"#fdca26\"],[1.0,\"#f0f921\"]]}],\"choropleth\":[{\"type\":\"choropleth\",\"colorbar\":{\"outlinewidth\":0,\"ticks\":\"\"}}],\"histogram2d\":[{\"type\":\"histogram2d\",\"colorbar\":{\"outlinewidth\":0,\"ticks\":\"\"},\"colorscale\":[[0.0,\"#0d0887\"],[0.1111111111111111,\"#46039f\"],[0.2222222222222222,\"#7201a8\"],[0.3333333333333333,\"#9c179e\"],[0.4444444444444444,\"#bd3786\"],[0.5555555555555556,\"#d8576b\"],[0.6666666666666666,\"#ed7953\"],[0.7777777777777778,\"#fb9f3a\"],[0.8888888888888888,\"#fdca26\"],[1.0,\"#f0f921\"]]}],\"heatmap\":[{\"type\":\"heatmap\",\"colorbar\":{\"outlinewidth\":0,\"ticks\":\"\"},\"colorscale\":[[0.0,\"#0d0887\"],[0.1111111111111111,\"#46039f\"],[0.2222222222222222,\"#7201a8\"],[0.3333333333333333,\"#9c179e\"],[0.4444444444444444,\"#bd3786\"],[0.5555555555555556,\"#d8576b\"],[0.6666666666666666,\"#ed7953\"],[0.7777777777777778,\"#fb9f3a\"],[0.8888888888888888,\"#fdca26\"],[1.0,\"#f0f921\"]]}],\"heatmapgl\":[{\"type\":\"heatmapgl\",\"colorbar\":{\"outlinewidth\":0,\"ticks\":\"\"},\"colorscale\":[[0.0,\"#0d0887\"],[0.1111111111111111,\"#46039f\"],[0.2222222222222222,\"#7201a8\"],[0.3333333333333333,\"#9c179e\"],[0.4444444444444444,\"#bd3786\"],[0.5555555555555556,\"#d8576b\"],[0.6666666666666666,\"#ed7953\"],[0.7777777777777778,\"#fb9f3a\"],[0.8888888888888888,\"#fdca26\"],[1.0,\"#f0f921\"]]}],\"contourcarpet\":[{\"type\":\"contourcarpet\",\"colorbar\":{\"outlinewidth\":0,\"ticks\":\"\"}}],\"contour\":[{\"type\":\"contour\",\"colorbar\":{\"outlinewidth\":0,\"ticks\":\"\"},\"colorscale\":[[0.0,\"#0d0887\"],[0.1111111111111111,\"#46039f\"],[0.2222222222222222,\"#7201a8\"],[0.3333333333333333,\"#9c179e\"],[0.4444444444444444,\"#bd3786\"],[0.5555555555555556,\"#d8576b\"],[0.6666666666666666,\"#ed7953\"],[0.7777777777777778,\"#fb9f3a\"],[0.8888888888888888,\"#fdca26\"],[1.0,\"#f0f921\"]]}],\"surface\":[{\"type\":\"surface\",\"colorbar\":{\"outlinewidth\":0,\"ticks\":\"\"},\"colorscale\":[[0.0,\"#0d0887\"],[0.1111111111111111,\"#46039f\"],[0.2222222222222222,\"#7201a8\"],[0.3333333333333333,\"#9c179e\"],[0.4444444444444444,\"#bd3786\"],[0.5555555555555556,\"#d8576b\"],[0.6666666666666666,\"#ed7953\"],[0.7777777777777778,\"#fb9f3a\"],[0.8888888888888888,\"#fdca26\"],[1.0,\"#f0f921\"]]}],\"mesh3d\":[{\"type\":\"mesh3d\",\"colorbar\":{\"outlinewidth\":0,\"ticks\":\"\"}}],\"scatter\":[{\"fillpattern\":{\"fillmode\":\"overlay\",\"size\":10,\"solidity\":0.2},\"type\":\"scatter\"}],\"parcoords\":[{\"type\":\"parcoords\",\"line\":{\"colorbar\":{\"outlinewidth\":0,\"ticks\":\"\"}}}],\"scatterpolargl\":[{\"type\":\"scatterpolargl\",\"marker\":{\"colorbar\":{\"outlinewidth\":0,\"ticks\":\"\"}}}],\"bar\":[{\"error_x\":{\"color\":\"#2a3f5f\"},\"error_y\":{\"color\":\"#2a3f5f\"},\"marker\":{\"line\":{\"color\":\"#E5ECF6\",\"width\":0.5},\"pattern\":{\"fillmode\":\"overlay\",\"size\":10,\"solidity\":0.2}},\"type\":\"bar\"}],\"scattergeo\":[{\"type\":\"scattergeo\",\"marker\":{\"colorbar\":{\"outlinewidth\":0,\"ticks\":\"\"}}}],\"scatterpolar\":[{\"type\":\"scatterpolar\",\"marker\":{\"colorbar\":{\"outlinewidth\":0,\"ticks\":\"\"}}}],\"histogram\":[{\"marker\":{\"pattern\":{\"fillmode\":\"overlay\",\"size\":10,\"solidity\":0.2}},\"type\":\"histogram\"}],\"scattergl\":[{\"type\":\"scattergl\",\"marker\":{\"colorbar\":{\"outlinewidth\":0,\"ticks\":\"\"}}}],\"scatter3d\":[{\"type\":\"scatter3d\",\"line\":{\"colorbar\":{\"outlinewidth\":0,\"ticks\":\"\"}},\"marker\":{\"colorbar\":{\"outlinewidth\":0,\"ticks\":\"\"}}}],\"scattermapbox\":[{\"type\":\"scattermapbox\",\"marker\":{\"colorbar\":{\"outlinewidth\":0,\"ticks\":\"\"}}}],\"scatterternary\":[{\"type\":\"scatterternary\",\"marker\":{\"colorbar\":{\"outlinewidth\":0,\"ticks\":\"\"}}}],\"scattercarpet\":[{\"type\":\"scattercarpet\",\"marker\":{\"colorbar\":{\"outlinewidth\":0,\"ticks\":\"\"}}}],\"carpet\":[{\"aaxis\":{\"endlinecolor\":\"#2a3f5f\",\"gridcolor\":\"white\",\"linecolor\":\"white\",\"minorgridcolor\":\"white\",\"startlinecolor\":\"#2a3f5f\"},\"baxis\":{\"endlinecolor\":\"#2a3f5f\",\"gridcolor\":\"white\",\"linecolor\":\"white\",\"minorgridcolor\":\"white\",\"startlinecolor\":\"#2a3f5f\"},\"type\":\"carpet\"}],\"table\":[{\"cells\":{\"fill\":{\"color\":\"#EBF0F8\"},\"line\":{\"color\":\"white\"}},\"header\":{\"fill\":{\"color\":\"#C8D4E3\"},\"line\":{\"color\":\"white\"}},\"type\":\"table\"}],\"barpolar\":[{\"marker\":{\"line\":{\"color\":\"#E5ECF6\",\"width\":0.5},\"pattern\":{\"fillmode\":\"overlay\",\"size\":10,\"solidity\":0.2}},\"type\":\"barpolar\"}],\"pie\":[{\"automargin\":true,\"type\":\"pie\"}]},\"layout\":{\"autotypenumbers\":\"strict\",\"colorway\":[\"#636efa\",\"#EF553B\",\"#00cc96\",\"#ab63fa\",\"#FFA15A\",\"#19d3f3\",\"#FF6692\",\"#B6E880\",\"#FF97FF\",\"#FECB52\"],\"font\":{\"color\":\"#2a3f5f\"},\"hovermode\":\"closest\",\"hoverlabel\":{\"align\":\"left\"},\"paper_bgcolor\":\"white\",\"plot_bgcolor\":\"#E5ECF6\",\"polar\":{\"bgcolor\":\"#E5ECF6\",\"angularaxis\":{\"gridcolor\":\"white\",\"linecolor\":\"white\",\"ticks\":\"\"},\"radialaxis\":{\"gridcolor\":\"white\",\"linecolor\":\"white\",\"ticks\":\"\"}},\"ternary\":{\"bgcolor\":\"#E5ECF6\",\"aaxis\":{\"gridcolor\":\"white\",\"linecolor\":\"white\",\"ticks\":\"\"},\"baxis\":{\"gridcolor\":\"white\",\"linecolor\":\"white\",\"ticks\":\"\"},\"caxis\":{\"gridcolor\":\"white\",\"linecolor\":\"white\",\"ticks\":\"\"}},\"coloraxis\":{\"colorbar\":{\"outlinewidth\":0,\"ticks\":\"\"}},\"colorscale\":{\"sequential\":[[0.0,\"#0d0887\"],[0.1111111111111111,\"#46039f\"],[0.2222222222222222,\"#7201a8\"],[0.3333333333333333,\"#9c179e\"],[0.4444444444444444,\"#bd3786\"],[0.5555555555555556,\"#d8576b\"],[0.6666666666666666,\"#ed7953\"],[0.7777777777777778,\"#fb9f3a\"],[0.8888888888888888,\"#fdca26\"],[1.0,\"#f0f921\"]],\"sequentialminus\":[[0.0,\"#0d0887\"],[0.1111111111111111,\"#46039f\"],[0.2222222222222222,\"#7201a8\"],[0.3333333333333333,\"#9c179e\"],[0.4444444444444444,\"#bd3786\"],[0.5555555555555556,\"#d8576b\"],[0.6666666666666666,\"#ed7953\"],[0.7777777777777778,\"#fb9f3a\"],[0.8888888888888888,\"#fdca26\"],[1.0,\"#f0f921\"]],\"diverging\":[[0,\"#8e0152\"],[0.1,\"#c51b7d\"],[0.2,\"#de77ae\"],[0.3,\"#f1b6da\"],[0.4,\"#fde0ef\"],[0.5,\"#f7f7f7\"],[0.6,\"#e6f5d0\"],[0.7,\"#b8e186\"],[0.8,\"#7fbc41\"],[0.9,\"#4d9221\"],[1,\"#276419\"]]},\"xaxis\":{\"gridcolor\":\"white\",\"linecolor\":\"white\",\"ticks\":\"\",\"title\":{\"standoff\":15},\"zerolinecolor\":\"white\",\"automargin\":true,\"zerolinewidth\":2},\"yaxis\":{\"gridcolor\":\"white\",\"linecolor\":\"white\",\"ticks\":\"\",\"title\":{\"standoff\":15},\"zerolinecolor\":\"white\",\"automargin\":true,\"zerolinewidth\":2},\"scene\":{\"xaxis\":{\"backgroundcolor\":\"#E5ECF6\",\"gridcolor\":\"white\",\"linecolor\":\"white\",\"showbackground\":true,\"ticks\":\"\",\"zerolinecolor\":\"white\",\"gridwidth\":2},\"yaxis\":{\"backgroundcolor\":\"#E5ECF6\",\"gridcolor\":\"white\",\"linecolor\":\"white\",\"showbackground\":true,\"ticks\":\"\",\"zerolinecolor\":\"white\",\"gridwidth\":2},\"zaxis\":{\"backgroundcolor\":\"#E5ECF6\",\"gridcolor\":\"white\",\"linecolor\":\"white\",\"showbackground\":true,\"ticks\":\"\",\"zerolinecolor\":\"white\",\"gridwidth\":2}},\"shapedefaults\":{\"line\":{\"color\":\"#2a3f5f\"}},\"annotationdefaults\":{\"arrowcolor\":\"#2a3f5f\",\"arrowhead\":0,\"arrowwidth\":1},\"geo\":{\"bgcolor\":\"white\",\"landcolor\":\"#E5ECF6\",\"subunitcolor\":\"white\",\"showland\":true,\"showlakes\":true,\"lakecolor\":\"white\"},\"title\":{\"x\":0.05},\"mapbox\":{\"style\":\"light\"}}},\"xaxis\":{\"anchor\":\"y\",\"domain\":[0.0,1.0],\"title\":{\"text\":\"Rating\"}},\"yaxis\":{\"anchor\":\"x\",\"domain\":[0.0,1.0],\"title\":{\"text\":\"Movie\"}},\"legend\":{\"tracegroupgap\":0},\"margin\":{\"t\":60},\"barmode\":\"relative\"},                        {\"responsive\": true}                    ).then(function(){\n",
              "                            \n",
              "var gd = document.getElementById('9670f68b-f16a-485b-82b1-81d04463a358');\n",
              "var x = new MutationObserver(function (mutations, observer) {{\n",
              "        var display = window.getComputedStyle(gd).display;\n",
              "        if (!display || display === 'none') {{\n",
              "            console.log([gd, 'removed!']);\n",
              "            Plotly.purge(gd);\n",
              "            observer.disconnect();\n",
              "        }}\n",
              "}});\n",
              "\n",
              "// Listen for the removal of the full notebook cells\n",
              "var notebookContainer = gd.closest('#notebook-container');\n",
              "if (notebookContainer) {{\n",
              "    x.observe(notebookContainer, {childList: true});\n",
              "}}\n",
              "\n",
              "// Listen for the clearing of the current output cell\n",
              "var outputEl = gd.closest('.output');\n",
              "if (outputEl) {{\n",
              "    x.observe(outputEl, {childList: true});\n",
              "}}\n",
              "\n",
              "                        })                };                            </script>        </div>\n",
              "</body>\n",
              "</html>"
            ]
          },
          "metadata": {}
        }
      ]
    },
    {
      "cell_type": "code",
      "source": [
        "import matplotlib.pyplot as plt\n",
        "\n",
        "# Count the number of titles in each IMDb rating category\n",
        "rating_counts = df['IMDb Rating'].value_counts().sort_index()\n",
        "\n",
        "# Define the positions of the bars\n",
        "positions = range(len(rating_counts))\n",
        "\n",
        "# Create the bar graph with separate bars\n",
        "plt.bar(positions, rating_counts.values, width=0.6, align='edge')  # Adjust the width as per your preference\n",
        "plt.xlabel('IMDb Rating')\n",
        "plt.ylabel('Number of Movies')\n",
        "plt.title('Number of Movies in Each IMDb Rating Category')\n",
        "plt.xticks(positions, rating_counts.index, rotation=45)\n",
        "plt.show()\n"
      ],
      "metadata": {
        "colab": {
          "base_uri": "https://localhost:8080/",
          "height": 483
        },
        "id": "QhQqCSPhZqM7",
        "outputId": "15f59728-aad3-4476-df74-82db325d7690"
      },
      "execution_count": 62,
      "outputs": [
        {
          "output_type": "display_data",
          "data": {
            "text/plain": [
              "<Figure size 640x480 with 1 Axes>"
            ],
            "image/png": "[encoded data removed]"
          },
          "metadata": {}
        }
      ]
    }
  ]
}